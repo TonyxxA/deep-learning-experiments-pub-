{
 "metadata": {
  "language_info": {
   "codemirror_mode": {
    "name": "ipython",
    "version": 3
   },
   "file_extension": ".py",
   "mimetype": "text/x-python",
   "name": "python",
   "nbconvert_exporter": "python",
   "pygments_lexer": "ipython3",
   "version": 3
  },
  "orig_nbformat": 2
 },
 "nbformat": 4,
 "nbformat_minor": 2,
 "cells": [
  {
   "cell_type": "markdown",
   "metadata": {},
   "source": [
    "# Image Recognition (Dogs&Cats Excercise)"
   ]
  },
  {
   "cell_type": "markdown",
   "metadata": {},
   "source": [
    "## The goal of this excercise is to develop and tune a neural network that would be able to recognize dogs and cats on pictures using limited data."
   ]
  },
  {
   "cell_type": "markdown",
   "metadata": {},
   "source": [
    "## Trimming the data."
   ]
  },
  {
   "cell_type": "code",
   "execution_count": null,
   "metadata": {},
   "outputs": [],
   "source": [
    "import os, shutil\n",
    "\n",
    "original_dataset_dir = \"Data/full_data\"\n",
    "\n",
    "base_dir = \"Data/partial_data\"\n",
    "os.mkdir(base_dir)\n",
    "\n",
    "train_dir = os.path.join(base, 'train')\n",
    "test_dir = os.path.join(base, \"test\")\n"
   ]
  }
 ]
}