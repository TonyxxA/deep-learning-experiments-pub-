{
 "metadata": {
  "language_info": {
   "codemirror_mode": {
    "name": "ipython",
    "version": 3
   },
   "file_extension": ".py",
   "mimetype": "text/x-python",
   "name": "python",
   "nbconvert_exporter": "python",
   "pygments_lexer": "ipython3",
   "version": "3.8.2-final"
  },
  "orig_nbformat": 2,
  "kernelspec": {
   "name": "deep-learning-experiments",
   "display_name": "Deep-Learning-Experiments"
  }
 },
 "nbformat": 4,
 "nbformat_minor": 2,
 "cells": [
  {
   "cell_type": "markdown",
   "metadata": {},
   "source": [
    "# It is another approach to the image classification problem (classification of digits). This approach uses convolutional neural networks (2D), and shows a lot better performance overall for image classification problems."
   ]
  },
  {
   "cell_type": "code",
   "execution_count": 1,
   "metadata": {
    "tags": []
   },
   "outputs": [
    {
     "output_type": "stream",
     "name": "stdout",
     "text": "Epoch 1/5\n938/938 [==============================] - 34s 37ms/step - loss: 0.1727 - accuracy: 0.9457\nEpoch 2/5\n938/938 [==============================] - 34s 37ms/step - loss: 0.0454 - accuracy: 0.9858\nEpoch 3/5\n938/938 [==============================] - 35s 37ms/step - loss: 0.0316 - accuracy: 0.9903\nEpoch 4/5\n938/938 [==============================] - 35s 37ms/step - loss: 0.0231 - accuracy: 0.9926\nEpoch 5/5\n938/938 [==============================] - 35s 37ms/step - loss: 0.0185 - accuracy: 0.9946\n313/313 [==============================] - 1s 5ms/step - loss: 0.0442 - accuracy: 0.9873\nLoss: 0.04416075721383095 \nAccuracy: 0.9872999787330627\n"
    }
   ],
   "source": [
    "from tensorflow.keras import layers, models\n",
    "from tensorflow.keras.datasets import mnist\n",
    "from tensorflow.keras.utils import to_categorical\n",
    "\n",
    "model = models.Sequential()\n",
    "model.add(layers.Conv2D(32, (3, 3), activation=\"relu\", input_shape=(28, 28, 1)))\n",
    "model.add(layers.MaxPooling2D((2, 2)))\n",
    "model.add(layers.Conv2D(64, (3, 3), activation=\"relu\"))\n",
    "model.add(layers.MaxPooling2D((2, 2)))\n",
    "model.add(layers.Conv2D(64, (3, 3), activation=\"relu\"))\n",
    "model.add(layers.Flatten())\n",
    "model.add(layers.Dense(64, activation=\"relu\"))\n",
    "model.add(layers.Dense(10, activation=\"softmax\"))\n",
    "model.compile(\n",
    "    optimizer=\"rmsprop\", loss=\"categorical_crossentropy\", metrics=[\"accuracy\"]\n",
    ")\n",
    "\n",
    "(train_data, train_labels), (test_data, test_labels) = mnist.load_data()\n",
    "\n",
    "train_data = train_data.reshape((60000, 28, 28, 1))\n",
    "train_data = train_data.astype(\"float32\") / 255\n",
    "\n",
    "train_labels = to_categorical(train_labels)\n",
    "\n",
    "model.fit(train_data, train_labels, batch_size=64, epochs=5)\n",
    "\n",
    "\n",
    "test_data = test_data.reshape(10000, 28, 28, 1)\n",
    "test_data = test_data.astype(\"float32\") / 255\n",
    "\n",
    "test_labels = to_categorical(test_labels)\n",
    "\n",
    "loss, accuracy = model.evaluate(test_data, test_labels)\n",
    "\n",
    "print(\"Loss:\", loss, \"\\nAccuracy:\", accuracy)"
   ]
  }
 ]
}